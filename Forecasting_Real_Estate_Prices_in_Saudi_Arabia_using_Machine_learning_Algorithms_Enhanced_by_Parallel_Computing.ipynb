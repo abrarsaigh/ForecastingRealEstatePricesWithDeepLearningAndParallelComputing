{
  "nbformat": 4,
  "nbformat_minor": 0,
  "metadata": {
    "colab": {
      "provenance": []
    },
    "kernelspec": {
      "name": "python3",
      "display_name": "Python 3"
    },
    "language_info": {
      "name": "python"
    }
  },
  "cells": [
    {
      "cell_type": "code",
      "execution_count": null,
      "metadata": {
        "id": "5H3CEaEsipCv"
      },
      "outputs": [],
      "source": [
        "#Imports needed\n",
        "from sklearn import metrics\n",
        "#Data Manipulation\n",
        "import pandas as pd\n",
        "import numpy as np\n",
        "import time\n",
        "\n",
        "\n",
        "from sklearn import metrics\n",
        "#Data Visualization\n",
        "import matplotlib.pyplot as plt\n",
        "import seaborn as sns\n",
        "\n",
        "#Train Test Split\n",
        "from sklearn.model_selection import train_test_split\n",
        "\n",
        "\n",
        "from sklearn.metrics import accuracy_score\n",
        "\n",
        "from joblib import parallel_backend\n",
        "\n",
        "#Scaling\n",
        "from sklearn.preprocessing import MinMaxScaler\n",
        "\n",
        "#Model\n",
        "from tensorflow.keras.models import Sequential\n",
        "from tensorflow.keras.layers import Dense, Activation\n",
        "from tensorflow.keras.optimizers import Adam\n",
        "\n",
        "#Evaluation\n",
        "from sklearn.metrics import mean_absolute_error\n",
        "from sklearn.metrics import mean_squared_error\n",
        "from sklearn.metrics import explained_variance_score\n",
        "\n",
        "#File Directory\n",
        "import os\n",
        "for dirname, _, filenames in os.walk('/kaggle/input'):\n",
        "    for filename in filenames:\n",
        "        print(os.path.join(dirname, filename))"
      ]
    },
    {
      "cell_type": "code",
      "source": [
        "# Reading csv file\n",
        "df = pd.read_csv('/content/sample_data/SA_Aqar.csv')"
      ],
      "metadata": {
        "id": "1SQZn2Z-jKQB"
      },
      "execution_count": null,
      "outputs": []
    },
    {
      "cell_type": "markdown",
      "source": [
        "# **EDA (Exploratory Data Analysis)**"
      ],
      "metadata": {
        "id": "Ii4eRagQzQRk"
      }
    },
    {
      "cell_type": "code",
      "source": [
        "#Sorting values\n",
        "df.sort_values(by='price',ascending=False).head(5)"
      ],
      "metadata": {
        "colab": {
          "base_uri": "https://localhost:8080/",
          "height": 516
        },
        "id": "kxPS_IqcpRT9",
        "outputId": "d3ff4020-3958-4d3d-d577-f5ae74236fe0"
      },
      "execution_count": null,
      "outputs": [
        {
          "output_type": "execute_result",
          "data": {
            "text/plain": [
              "         city                district    front  size  property_age  bedrooms  \\\n",
              "1206      جدة              حي الروضة      شمال  2500             0         5   \n",
              "1168      جدة           حي الحمدانية   3 شوارع   300             0         5   \n",
              "1974   الدمام     حي ضاحية الملك فهد      شمال   250             0         5   \n",
              "417    الرياض                حي طويق       شرق   400            32         5   \n",
              "950    الرياض             حي الاسكان       غرب   250             0         3   \n",
              "\n",
              "      bathrooms  livingrooms  kitchen  garage  ...  roof  pool  frontyard  \\\n",
              "1206          5            5        1       1  ...     1     0          1   \n",
              "1168          5            3        1       1  ...     1     0          1   \n",
              "1974          5            1        1       1  ...     1     0          1   \n",
              "417           3            1        1       1  ...     0     0          1   \n",
              "950           3            2        1       1  ...     0     0          1   \n",
              "\n",
              "      basement  duplex  stairs  elevator  fireplace    price  \\\n",
              "1206         1       0       1         1          0  1700000   \n",
              "1168         1       0       1         1          1  1300000   \n",
              "1974         0       0       1         0          0   800000   \n",
              "417          0       0       0         0          0   800000   \n",
              "950          0       1       1         0          1   800000   \n",
              "\n",
              "                                                details  \n",
              "1206  العقار فيه مميزات كثير له وله تراخيص جاهزه مجه...  \n",
              "1168  فيلا فاخرة حي الحمدانيه\\nمكونات المشروع دورين ...  \n",
              "1974  دبلوكس في الضاحيه مكون من 3ادوار ارضي مجالس ال...  \n",
              "417   فيلا دور دور مساحه ٤٠٠ متر على شارعين شرقيه وش...  \n",
              "950   دبلكسات متلاصقة\\nمساحات من ٢٤٥ الى ٢٥٠ م \\nشار...  \n",
              "\n",
              "[5 rows x 24 columns]"
            ],
            "text/html": [
              "\n",
              "  <div id=\"df-8ae55a4a-18b8-46b0-b66a-38c5a7abe494\" class=\"colab-df-container\">\n",
              "    <div>\n",
              "<style scoped>\n",
              "    .dataframe tbody tr th:only-of-type {\n",
              "        vertical-align: middle;\n",
              "    }\n",
              "\n",
              "    .dataframe tbody tr th {\n",
              "        vertical-align: top;\n",
              "    }\n",
              "\n",
              "    .dataframe thead th {\n",
              "        text-align: right;\n",
              "    }\n",
              "</style>\n",
              "<table border=\"1\" class=\"dataframe\">\n",
              "  <thead>\n",
              "    <tr style=\"text-align: right;\">\n",
              "      <th></th>\n",
              "      <th>city</th>\n",
              "      <th>district</th>\n",
              "      <th>front</th>\n",
              "      <th>size</th>\n",
              "      <th>property_age</th>\n",
              "      <th>bedrooms</th>\n",
              "      <th>bathrooms</th>\n",
              "      <th>livingrooms</th>\n",
              "      <th>kitchen</th>\n",
              "      <th>garage</th>\n",
              "      <th>...</th>\n",
              "      <th>roof</th>\n",
              "      <th>pool</th>\n",
              "      <th>frontyard</th>\n",
              "      <th>basement</th>\n",
              "      <th>duplex</th>\n",
              "      <th>stairs</th>\n",
              "      <th>elevator</th>\n",
              "      <th>fireplace</th>\n",
              "      <th>price</th>\n",
              "      <th>details</th>\n",
              "    </tr>\n",
              "  </thead>\n",
              "  <tbody>\n",
              "    <tr>\n",
              "      <th>1206</th>\n",
              "      <td>جدة</td>\n",
              "      <td>حي الروضة</td>\n",
              "      <td>شمال</td>\n",
              "      <td>2500</td>\n",
              "      <td>0</td>\n",
              "      <td>5</td>\n",
              "      <td>5</td>\n",
              "      <td>5</td>\n",
              "      <td>1</td>\n",
              "      <td>1</td>\n",
              "      <td>...</td>\n",
              "      <td>1</td>\n",
              "      <td>0</td>\n",
              "      <td>1</td>\n",
              "      <td>1</td>\n",
              "      <td>0</td>\n",
              "      <td>1</td>\n",
              "      <td>1</td>\n",
              "      <td>0</td>\n",
              "      <td>1700000</td>\n",
              "      <td>العقار فيه مميزات كثير له وله تراخيص جاهزه مجه...</td>\n",
              "    </tr>\n",
              "    <tr>\n",
              "      <th>1168</th>\n",
              "      <td>جدة</td>\n",
              "      <td>حي الحمدانية</td>\n",
              "      <td>3 شوارع</td>\n",
              "      <td>300</td>\n",
              "      <td>0</td>\n",
              "      <td>5</td>\n",
              "      <td>5</td>\n",
              "      <td>3</td>\n",
              "      <td>1</td>\n",
              "      <td>1</td>\n",
              "      <td>...</td>\n",
              "      <td>1</td>\n",
              "      <td>0</td>\n",
              "      <td>1</td>\n",
              "      <td>1</td>\n",
              "      <td>0</td>\n",
              "      <td>1</td>\n",
              "      <td>1</td>\n",
              "      <td>1</td>\n",
              "      <td>1300000</td>\n",
              "      <td>فيلا فاخرة حي الحمدانيه\\nمكونات المشروع دورين ...</td>\n",
              "    </tr>\n",
              "    <tr>\n",
              "      <th>1974</th>\n",
              "      <td>الدمام</td>\n",
              "      <td>حي ضاحية الملك فهد</td>\n",
              "      <td>شمال</td>\n",
              "      <td>250</td>\n",
              "      <td>0</td>\n",
              "      <td>5</td>\n",
              "      <td>5</td>\n",
              "      <td>1</td>\n",
              "      <td>1</td>\n",
              "      <td>1</td>\n",
              "      <td>...</td>\n",
              "      <td>1</td>\n",
              "      <td>0</td>\n",
              "      <td>1</td>\n",
              "      <td>0</td>\n",
              "      <td>0</td>\n",
              "      <td>1</td>\n",
              "      <td>0</td>\n",
              "      <td>0</td>\n",
              "      <td>800000</td>\n",
              "      <td>دبلوكس في الضاحيه مكون من 3ادوار ارضي مجالس ال...</td>\n",
              "    </tr>\n",
              "    <tr>\n",
              "      <th>417</th>\n",
              "      <td>الرياض</td>\n",
              "      <td>حي طويق</td>\n",
              "      <td>شرق</td>\n",
              "      <td>400</td>\n",
              "      <td>32</td>\n",
              "      <td>5</td>\n",
              "      <td>3</td>\n",
              "      <td>1</td>\n",
              "      <td>1</td>\n",
              "      <td>1</td>\n",
              "      <td>...</td>\n",
              "      <td>0</td>\n",
              "      <td>0</td>\n",
              "      <td>1</td>\n",
              "      <td>0</td>\n",
              "      <td>0</td>\n",
              "      <td>0</td>\n",
              "      <td>0</td>\n",
              "      <td>0</td>\n",
              "      <td>800000</td>\n",
              "      <td>فيلا دور دور مساحه ٤٠٠ متر على شارعين شرقيه وش...</td>\n",
              "    </tr>\n",
              "    <tr>\n",
              "      <th>950</th>\n",
              "      <td>الرياض</td>\n",
              "      <td>حي الاسكان</td>\n",
              "      <td>غرب</td>\n",
              "      <td>250</td>\n",
              "      <td>0</td>\n",
              "      <td>3</td>\n",
              "      <td>3</td>\n",
              "      <td>2</td>\n",
              "      <td>1</td>\n",
              "      <td>1</td>\n",
              "      <td>...</td>\n",
              "      <td>0</td>\n",
              "      <td>0</td>\n",
              "      <td>1</td>\n",
              "      <td>0</td>\n",
              "      <td>1</td>\n",
              "      <td>1</td>\n",
              "      <td>0</td>\n",
              "      <td>1</td>\n",
              "      <td>800000</td>\n",
              "      <td>دبلكسات متلاصقة\\nمساحات من ٢٤٥ الى ٢٥٠ م \\nشار...</td>\n",
              "    </tr>\n",
              "  </tbody>\n",
              "</table>\n",
              "<p>5 rows × 24 columns</p>\n",
              "</div>\n",
              "    <div class=\"colab-df-buttons\">\n",
              "\n",
              "  <div class=\"colab-df-container\">\n",
              "    <button class=\"colab-df-convert\" onclick=\"convertToInteractive('df-8ae55a4a-18b8-46b0-b66a-38c5a7abe494')\"\n",
              "            title=\"Convert this dataframe to an interactive table.\"\n",
              "            style=\"display:none;\">\n",
              "\n",
              "  <svg xmlns=\"http://www.w3.org/2000/svg\" height=\"24px\" viewBox=\"0 -960 960 960\">\n",
              "    <path d=\"M120-120v-720h720v720H120Zm60-500h600v-160H180v160Zm220 220h160v-160H400v160Zm0 220h160v-160H400v160ZM180-400h160v-160H180v160Zm440 0h160v-160H620v160ZM180-180h160v-160H180v160Zm440 0h160v-160H620v160Z\"/>\n",
              "  </svg>\n",
              "    </button>\n",
              "\n",
              "  <style>\n",
              "    .colab-df-container {\n",
              "      display:flex;\n",
              "      gap: 12px;\n",
              "    }\n",
              "\n",
              "    .colab-df-convert {\n",
              "      background-color: #E8F0FE;\n",
              "      border: none;\n",
              "      border-radius: 50%;\n",
              "      cursor: pointer;\n",
              "      display: none;\n",
              "      fill: #1967D2;\n",
              "      height: 32px;\n",
              "      padding: 0 0 0 0;\n",
              "      width: 32px;\n",
              "    }\n",
              "\n",
              "    .colab-df-convert:hover {\n",
              "      background-color: #E2EBFA;\n",
              "      box-shadow: 0px 1px 2px rgba(60, 64, 67, 0.3), 0px 1px 3px 1px rgba(60, 64, 67, 0.15);\n",
              "      fill: #174EA6;\n",
              "    }\n",
              "\n",
              "    .colab-df-buttons div {\n",
              "      margin-bottom: 4px;\n",
              "    }\n",
              "\n",
              "    [theme=dark] .colab-df-convert {\n",
              "      background-color: #3B4455;\n",
              "      fill: #D2E3FC;\n",
              "    }\n",
              "\n",
              "    [theme=dark] .colab-df-convert:hover {\n",
              "      background-color: #434B5C;\n",
              "      box-shadow: 0px 1px 3px 1px rgba(0, 0, 0, 0.15);\n",
              "      filter: drop-shadow(0px 1px 2px rgba(0, 0, 0, 0.3));\n",
              "      fill: #FFFFFF;\n",
              "    }\n",
              "  </style>\n",
              "\n",
              "    <script>\n",
              "      const buttonEl =\n",
              "        document.querySelector('#df-8ae55a4a-18b8-46b0-b66a-38c5a7abe494 button.colab-df-convert');\n",
              "      buttonEl.style.display =\n",
              "        google.colab.kernel.accessAllowed ? 'block' : 'none';\n",
              "\n",
              "      async function convertToInteractive(key) {\n",
              "        const element = document.querySelector('#df-8ae55a4a-18b8-46b0-b66a-38c5a7abe494');\n",
              "        const dataTable =\n",
              "          await google.colab.kernel.invokeFunction('convertToInteractive',\n",
              "                                                    [key], {});\n",
              "        if (!dataTable) return;\n",
              "\n",
              "        const docLinkHtml = 'Like what you see? Visit the ' +\n",
              "          '<a target=\"_blank\" href=https://colab.research.google.com/notebooks/data_table.ipynb>data table notebook</a>'\n",
              "          + ' to learn more about interactive tables.';\n",
              "        element.innerHTML = '';\n",
              "        dataTable['output_type'] = 'display_data';\n",
              "        await google.colab.output.renderOutput(dataTable, element);\n",
              "        const docLink = document.createElement('div');\n",
              "        docLink.innerHTML = docLinkHtml;\n",
              "        element.appendChild(docLink);\n",
              "      }\n",
              "    </script>\n",
              "  </div>\n",
              "\n",
              "\n",
              "<div id=\"df-b3e20a38-76f4-4459-9431-bf56b0a97451\">\n",
              "  <button class=\"colab-df-quickchart\" onclick=\"quickchart('df-b3e20a38-76f4-4459-9431-bf56b0a97451')\"\n",
              "            title=\"Suggest charts\"\n",
              "            style=\"display:none;\">\n",
              "\n",
              "<svg xmlns=\"http://www.w3.org/2000/svg\" height=\"24px\"viewBox=\"0 0 24 24\"\n",
              "     width=\"24px\">\n",
              "    <g>\n",
              "        <path d=\"M19 3H5c-1.1 0-2 .9-2 2v14c0 1.1.9 2 2 2h14c1.1 0 2-.9 2-2V5c0-1.1-.9-2-2-2zM9 17H7v-7h2v7zm4 0h-2V7h2v10zm4 0h-2v-4h2v4z\"/>\n",
              "    </g>\n",
              "</svg>\n",
              "  </button>\n",
              "\n",
              "<style>\n",
              "  .colab-df-quickchart {\n",
              "      --bg-color: #E8F0FE;\n",
              "      --fill-color: #1967D2;\n",
              "      --hover-bg-color: #E2EBFA;\n",
              "      --hover-fill-color: #174EA6;\n",
              "      --disabled-fill-color: #AAA;\n",
              "      --disabled-bg-color: #DDD;\n",
              "  }\n",
              "\n",
              "  [theme=dark] .colab-df-quickchart {\n",
              "      --bg-color: #3B4455;\n",
              "      --fill-color: #D2E3FC;\n",
              "      --hover-bg-color: #434B5C;\n",
              "      --hover-fill-color: #FFFFFF;\n",
              "      --disabled-bg-color: #3B4455;\n",
              "      --disabled-fill-color: #666;\n",
              "  }\n",
              "\n",
              "  .colab-df-quickchart {\n",
              "    background-color: var(--bg-color);\n",
              "    border: none;\n",
              "    border-radius: 50%;\n",
              "    cursor: pointer;\n",
              "    display: none;\n",
              "    fill: var(--fill-color);\n",
              "    height: 32px;\n",
              "    padding: 0;\n",
              "    width: 32px;\n",
              "  }\n",
              "\n",
              "  .colab-df-quickchart:hover {\n",
              "    background-color: var(--hover-bg-color);\n",
              "    box-shadow: 0 1px 2px rgba(60, 64, 67, 0.3), 0 1px 3px 1px rgba(60, 64, 67, 0.15);\n",
              "    fill: var(--button-hover-fill-color);\n",
              "  }\n",
              "\n",
              "  .colab-df-quickchart-complete:disabled,\n",
              "  .colab-df-quickchart-complete:disabled:hover {\n",
              "    background-color: var(--disabled-bg-color);\n",
              "    fill: var(--disabled-fill-color);\n",
              "    box-shadow: none;\n",
              "  }\n",
              "\n",
              "  .colab-df-spinner {\n",
              "    border: 2px solid var(--fill-color);\n",
              "    border-color: transparent;\n",
              "    border-bottom-color: var(--fill-color);\n",
              "    animation:\n",
              "      spin 1s steps(1) infinite;\n",
              "  }\n",
              "\n",
              "  @keyframes spin {\n",
              "    0% {\n",
              "      border-color: transparent;\n",
              "      border-bottom-color: var(--fill-color);\n",
              "      border-left-color: var(--fill-color);\n",
              "    }\n",
              "    20% {\n",
              "      border-color: transparent;\n",
              "      border-left-color: var(--fill-color);\n",
              "      border-top-color: var(--fill-color);\n",
              "    }\n",
              "    30% {\n",
              "      border-color: transparent;\n",
              "      border-left-color: var(--fill-color);\n",
              "      border-top-color: var(--fill-color);\n",
              "      border-right-color: var(--fill-color);\n",
              "    }\n",
              "    40% {\n",
              "      border-color: transparent;\n",
              "      border-right-color: var(--fill-color);\n",
              "      border-top-color: var(--fill-color);\n",
              "    }\n",
              "    60% {\n",
              "      border-color: transparent;\n",
              "      border-right-color: var(--fill-color);\n",
              "    }\n",
              "    80% {\n",
              "      border-color: transparent;\n",
              "      border-right-color: var(--fill-color);\n",
              "      border-bottom-color: var(--fill-color);\n",
              "    }\n",
              "    90% {\n",
              "      border-color: transparent;\n",
              "      border-bottom-color: var(--fill-color);\n",
              "    }\n",
              "  }\n",
              "</style>\n",
              "\n",
              "  <script>\n",
              "    async function quickchart(key) {\n",
              "      const quickchartButtonEl =\n",
              "        document.querySelector('#' + key + ' button');\n",
              "      quickchartButtonEl.disabled = true;  // To prevent multiple clicks.\n",
              "      quickchartButtonEl.classList.add('colab-df-spinner');\n",
              "      try {\n",
              "        const charts = await google.colab.kernel.invokeFunction(\n",
              "            'suggestCharts', [key], {});\n",
              "      } catch (error) {\n",
              "        console.error('Error during call to suggestCharts:', error);\n",
              "      }\n",
              "      quickchartButtonEl.classList.remove('colab-df-spinner');\n",
              "      quickchartButtonEl.classList.add('colab-df-quickchart-complete');\n",
              "    }\n",
              "    (() => {\n",
              "      let quickchartButtonEl =\n",
              "        document.querySelector('#df-b3e20a38-76f4-4459-9431-bf56b0a97451 button');\n",
              "      quickchartButtonEl.style.display =\n",
              "        google.colab.kernel.accessAllowed ? 'block' : 'none';\n",
              "    })();\n",
              "  </script>\n",
              "</div>\n",
              "\n",
              "    </div>\n",
              "  </div>\n"
            ],
            "application/vnd.google.colaboratory.intrinsic+json": {
              "type": "dataframe"
            }
          },
          "metadata": {},
          "execution_count": 32
        }
      ]
    },
    {
      "cell_type": "code",
      "source": [
        "#Describe the data\n",
        "df.describe()"
      ],
      "metadata": {
        "colab": {
          "base_uri": "https://localhost:8080/",
          "height": 320
        },
        "id": "Y4dypFeEpTP7",
        "outputId": "3672f44a-d52b-4e68-f2f0-f206ec2de8e7"
      },
      "execution_count": null,
      "outputs": [
        {
          "output_type": "execute_result",
          "data": {
            "text/plain": [
              "               size  property_age     bedrooms    bathrooms  livingrooms  \\\n",
              "count   3718.000000   3718.000000  3718.000000  3718.000000  3718.000000   \n",
              "mean     390.968531      5.064820     5.083916     4.606509     2.243948   \n",
              "std     1565.056135      7.590427     1.230040     0.703449     0.916436   \n",
              "min        1.000000      0.000000     1.000000     1.000000     1.000000   \n",
              "25%      280.000000      0.000000     4.000000     4.000000     2.000000   \n",
              "50%      330.000000      2.000000     5.000000     5.000000     2.000000   \n",
              "75%      400.000000      7.000000     6.000000     5.000000     3.000000   \n",
              "max    95000.000000     36.000000     7.000000     5.000000     5.000000   \n",
              "\n",
              "           kitchen       garage  driver_room    maid_room    furnished  \\\n",
              "count  3718.000000  3718.000000  3718.000000  3718.000000  3718.000000   \n",
              "mean      0.909360     0.802044     0.495697     0.795320     0.123453   \n",
              "std       0.287135     0.398512     0.500049     0.403522     0.329001   \n",
              "min       0.000000     0.000000     0.000000     0.000000     0.000000   \n",
              "25%       1.000000     1.000000     0.000000     1.000000     0.000000   \n",
              "50%       1.000000     1.000000     0.000000     1.000000     0.000000   \n",
              "75%       1.000000     1.000000     1.000000     1.000000     0.000000   \n",
              "max       1.000000     1.000000     1.000000     1.000000     1.000000   \n",
              "\n",
              "                ac         roof         pool    frontyard     basement  \\\n",
              "count  3718.000000  3718.000000  3718.000000  3718.000000  3718.000000   \n",
              "mean      0.560785     0.521517     0.162453     0.802582     0.034158   \n",
              "std       0.496358     0.499604     0.368915     0.398104     0.181660   \n",
              "min       0.000000     0.000000     0.000000     0.000000     0.000000   \n",
              "25%       0.000000     0.000000     0.000000     1.000000     0.000000   \n",
              "50%       1.000000     1.000000     0.000000     1.000000     0.000000   \n",
              "75%       1.000000     1.000000     0.000000     1.000000     0.000000   \n",
              "max       1.000000     1.000000     1.000000     1.000000     1.000000   \n",
              "\n",
              "            duplex       stairs     elevator    fireplace         price  \n",
              "count  3718.000000  3718.000000  3718.000000  3718.000000  3.718000e+03  \n",
              "mean      0.499462     0.814416     0.080958     0.181280  8.738797e+04  \n",
              "std       0.500067     0.388823     0.272807     0.385302  7.063470e+04  \n",
              "min       0.000000     0.000000     0.000000     0.000000  1.000000e+03  \n",
              "25%       0.000000     1.000000     0.000000     0.000000  5.500000e+04  \n",
              "50%       0.000000     1.000000     0.000000     0.000000  7.000000e+04  \n",
              "75%       1.000000     1.000000     0.000000     0.000000  1.000000e+05  \n",
              "max       1.000000     1.000000     1.000000     1.000000  1.700000e+06  "
            ],
            "text/html": [
              "\n",
              "  <div id=\"df-778a5a40-e852-4d72-bc84-e8b70264ee40\" class=\"colab-df-container\">\n",
              "    <div>\n",
              "<style scoped>\n",
              "    .dataframe tbody tr th:only-of-type {\n",
              "        vertical-align: middle;\n",
              "    }\n",
              "\n",
              "    .dataframe tbody tr th {\n",
              "        vertical-align: top;\n",
              "    }\n",
              "\n",
              "    .dataframe thead th {\n",
              "        text-align: right;\n",
              "    }\n",
              "</style>\n",
              "<table border=\"1\" class=\"dataframe\">\n",
              "  <thead>\n",
              "    <tr style=\"text-align: right;\">\n",
              "      <th></th>\n",
              "      <th>size</th>\n",
              "      <th>property_age</th>\n",
              "      <th>bedrooms</th>\n",
              "      <th>bathrooms</th>\n",
              "      <th>livingrooms</th>\n",
              "      <th>kitchen</th>\n",
              "      <th>garage</th>\n",
              "      <th>driver_room</th>\n",
              "      <th>maid_room</th>\n",
              "      <th>furnished</th>\n",
              "      <th>ac</th>\n",
              "      <th>roof</th>\n",
              "      <th>pool</th>\n",
              "      <th>frontyard</th>\n",
              "      <th>basement</th>\n",
              "      <th>duplex</th>\n",
              "      <th>stairs</th>\n",
              "      <th>elevator</th>\n",
              "      <th>fireplace</th>\n",
              "      <th>price</th>\n",
              "    </tr>\n",
              "  </thead>\n",
              "  <tbody>\n",
              "    <tr>\n",
              "      <th>count</th>\n",
              "      <td>3718.000000</td>\n",
              "      <td>3718.000000</td>\n",
              "      <td>3718.000000</td>\n",
              "      <td>3718.000000</td>\n",
              "      <td>3718.000000</td>\n",
              "      <td>3718.000000</td>\n",
              "      <td>3718.000000</td>\n",
              "      <td>3718.000000</td>\n",
              "      <td>3718.000000</td>\n",
              "      <td>3718.000000</td>\n",
              "      <td>3718.000000</td>\n",
              "      <td>3718.000000</td>\n",
              "      <td>3718.000000</td>\n",
              "      <td>3718.000000</td>\n",
              "      <td>3718.000000</td>\n",
              "      <td>3718.000000</td>\n",
              "      <td>3718.000000</td>\n",
              "      <td>3718.000000</td>\n",
              "      <td>3718.000000</td>\n",
              "      <td>3.718000e+03</td>\n",
              "    </tr>\n",
              "    <tr>\n",
              "      <th>mean</th>\n",
              "      <td>390.968531</td>\n",
              "      <td>5.064820</td>\n",
              "      <td>5.083916</td>\n",
              "      <td>4.606509</td>\n",
              "      <td>2.243948</td>\n",
              "      <td>0.909360</td>\n",
              "      <td>0.802044</td>\n",
              "      <td>0.495697</td>\n",
              "      <td>0.795320</td>\n",
              "      <td>0.123453</td>\n",
              "      <td>0.560785</td>\n",
              "      <td>0.521517</td>\n",
              "      <td>0.162453</td>\n",
              "      <td>0.802582</td>\n",
              "      <td>0.034158</td>\n",
              "      <td>0.499462</td>\n",
              "      <td>0.814416</td>\n",
              "      <td>0.080958</td>\n",
              "      <td>0.181280</td>\n",
              "      <td>8.738797e+04</td>\n",
              "    </tr>\n",
              "    <tr>\n",
              "      <th>std</th>\n",
              "      <td>1565.056135</td>\n",
              "      <td>7.590427</td>\n",
              "      <td>1.230040</td>\n",
              "      <td>0.703449</td>\n",
              "      <td>0.916436</td>\n",
              "      <td>0.287135</td>\n",
              "      <td>0.398512</td>\n",
              "      <td>0.500049</td>\n",
              "      <td>0.403522</td>\n",
              "      <td>0.329001</td>\n",
              "      <td>0.496358</td>\n",
              "      <td>0.499604</td>\n",
              "      <td>0.368915</td>\n",
              "      <td>0.398104</td>\n",
              "      <td>0.181660</td>\n",
              "      <td>0.500067</td>\n",
              "      <td>0.388823</td>\n",
              "      <td>0.272807</td>\n",
              "      <td>0.385302</td>\n",
              "      <td>7.063470e+04</td>\n",
              "    </tr>\n",
              "    <tr>\n",
              "      <th>min</th>\n",
              "      <td>1.000000</td>\n",
              "      <td>0.000000</td>\n",
              "      <td>1.000000</td>\n",
              "      <td>1.000000</td>\n",
              "      <td>1.000000</td>\n",
              "      <td>0.000000</td>\n",
              "      <td>0.000000</td>\n",
              "      <td>0.000000</td>\n",
              "      <td>0.000000</td>\n",
              "      <td>0.000000</td>\n",
              "      <td>0.000000</td>\n",
              "      <td>0.000000</td>\n",
              "      <td>0.000000</td>\n",
              "      <td>0.000000</td>\n",
              "      <td>0.000000</td>\n",
              "      <td>0.000000</td>\n",
              "      <td>0.000000</td>\n",
              "      <td>0.000000</td>\n",
              "      <td>0.000000</td>\n",
              "      <td>1.000000e+03</td>\n",
              "    </tr>\n",
              "    <tr>\n",
              "      <th>25%</th>\n",
              "      <td>280.000000</td>\n",
              "      <td>0.000000</td>\n",
              "      <td>4.000000</td>\n",
              "      <td>4.000000</td>\n",
              "      <td>2.000000</td>\n",
              "      <td>1.000000</td>\n",
              "      <td>1.000000</td>\n",
              "      <td>0.000000</td>\n",
              "      <td>1.000000</td>\n",
              "      <td>0.000000</td>\n",
              "      <td>0.000000</td>\n",
              "      <td>0.000000</td>\n",
              "      <td>0.000000</td>\n",
              "      <td>1.000000</td>\n",
              "      <td>0.000000</td>\n",
              "      <td>0.000000</td>\n",
              "      <td>1.000000</td>\n",
              "      <td>0.000000</td>\n",
              "      <td>0.000000</td>\n",
              "      <td>5.500000e+04</td>\n",
              "    </tr>\n",
              "    <tr>\n",
              "      <th>50%</th>\n",
              "      <td>330.000000</td>\n",
              "      <td>2.000000</td>\n",
              "      <td>5.000000</td>\n",
              "      <td>5.000000</td>\n",
              "      <td>2.000000</td>\n",
              "      <td>1.000000</td>\n",
              "      <td>1.000000</td>\n",
              "      <td>0.000000</td>\n",
              "      <td>1.000000</td>\n",
              "      <td>0.000000</td>\n",
              "      <td>1.000000</td>\n",
              "      <td>1.000000</td>\n",
              "      <td>0.000000</td>\n",
              "      <td>1.000000</td>\n",
              "      <td>0.000000</td>\n",
              "      <td>0.000000</td>\n",
              "      <td>1.000000</td>\n",
              "      <td>0.000000</td>\n",
              "      <td>0.000000</td>\n",
              "      <td>7.000000e+04</td>\n",
              "    </tr>\n",
              "    <tr>\n",
              "      <th>75%</th>\n",
              "      <td>400.000000</td>\n",
              "      <td>7.000000</td>\n",
              "      <td>6.000000</td>\n",
              "      <td>5.000000</td>\n",
              "      <td>3.000000</td>\n",
              "      <td>1.000000</td>\n",
              "      <td>1.000000</td>\n",
              "      <td>1.000000</td>\n",
              "      <td>1.000000</td>\n",
              "      <td>0.000000</td>\n",
              "      <td>1.000000</td>\n",
              "      <td>1.000000</td>\n",
              "      <td>0.000000</td>\n",
              "      <td>1.000000</td>\n",
              "      <td>0.000000</td>\n",
              "      <td>1.000000</td>\n",
              "      <td>1.000000</td>\n",
              "      <td>0.000000</td>\n",
              "      <td>0.000000</td>\n",
              "      <td>1.000000e+05</td>\n",
              "    </tr>\n",
              "    <tr>\n",
              "      <th>max</th>\n",
              "      <td>95000.000000</td>\n",
              "      <td>36.000000</td>\n",
              "      <td>7.000000</td>\n",
              "      <td>5.000000</td>\n",
              "      <td>5.000000</td>\n",
              "      <td>1.000000</td>\n",
              "      <td>1.000000</td>\n",
              "      <td>1.000000</td>\n",
              "      <td>1.000000</td>\n",
              "      <td>1.000000</td>\n",
              "      <td>1.000000</td>\n",
              "      <td>1.000000</td>\n",
              "      <td>1.000000</td>\n",
              "      <td>1.000000</td>\n",
              "      <td>1.000000</td>\n",
              "      <td>1.000000</td>\n",
              "      <td>1.000000</td>\n",
              "      <td>1.000000</td>\n",
              "      <td>1.000000</td>\n",
              "      <td>1.700000e+06</td>\n",
              "    </tr>\n",
              "  </tbody>\n",
              "</table>\n",
              "</div>\n",
              "    <div class=\"colab-df-buttons\">\n",
              "\n",
              "  <div class=\"colab-df-container\">\n",
              "    <button class=\"colab-df-convert\" onclick=\"convertToInteractive('df-778a5a40-e852-4d72-bc84-e8b70264ee40')\"\n",
              "            title=\"Convert this dataframe to an interactive table.\"\n",
              "            style=\"display:none;\">\n",
              "\n",
              "  <svg xmlns=\"http://www.w3.org/2000/svg\" height=\"24px\" viewBox=\"0 -960 960 960\">\n",
              "    <path d=\"M120-120v-720h720v720H120Zm60-500h600v-160H180v160Zm220 220h160v-160H400v160Zm0 220h160v-160H400v160ZM180-400h160v-160H180v160Zm440 0h160v-160H620v160ZM180-180h160v-160H180v160Zm440 0h160v-160H620v160Z\"/>\n",
              "  </svg>\n",
              "    </button>\n",
              "\n",
              "  <style>\n",
              "    .colab-df-container {\n",
              "      display:flex;\n",
              "      gap: 12px;\n",
              "    }\n",
              "\n",
              "    .colab-df-convert {\n",
              "      background-color: #E8F0FE;\n",
              "      border: none;\n",
              "      border-radius: 50%;\n",
              "      cursor: pointer;\n",
              "      display: none;\n",
              "      fill: #1967D2;\n",
              "      height: 32px;\n",
              "      padding: 0 0 0 0;\n",
              "      width: 32px;\n",
              "    }\n",
              "\n",
              "    .colab-df-convert:hover {\n",
              "      background-color: #E2EBFA;\n",
              "      box-shadow: 0px 1px 2px rgba(60, 64, 67, 0.3), 0px 1px 3px 1px rgba(60, 64, 67, 0.15);\n",
              "      fill: #174EA6;\n",
              "    }\n",
              "\n",
              "    .colab-df-buttons div {\n",
              "      margin-bottom: 4px;\n",
              "    }\n",
              "\n",
              "    [theme=dark] .colab-df-convert {\n",
              "      background-color: #3B4455;\n",
              "      fill: #D2E3FC;\n",
              "    }\n",
              "\n",
              "    [theme=dark] .colab-df-convert:hover {\n",
              "      background-color: #434B5C;\n",
              "      box-shadow: 0px 1px 3px 1px rgba(0, 0, 0, 0.15);\n",
              "      filter: drop-shadow(0px 1px 2px rgba(0, 0, 0, 0.3));\n",
              "      fill: #FFFFFF;\n",
              "    }\n",
              "  </style>\n",
              "\n",
              "    <script>\n",
              "      const buttonEl =\n",
              "        document.querySelector('#df-778a5a40-e852-4d72-bc84-e8b70264ee40 button.colab-df-convert');\n",
              "      buttonEl.style.display =\n",
              "        google.colab.kernel.accessAllowed ? 'block' : 'none';\n",
              "\n",
              "      async function convertToInteractive(key) {\n",
              "        const element = document.querySelector('#df-778a5a40-e852-4d72-bc84-e8b70264ee40');\n",
              "        const dataTable =\n",
              "          await google.colab.kernel.invokeFunction('convertToInteractive',\n",
              "                                                    [key], {});\n",
              "        if (!dataTable) return;\n",
              "\n",
              "        const docLinkHtml = 'Like what you see? Visit the ' +\n",
              "          '<a target=\"_blank\" href=https://colab.research.google.com/notebooks/data_table.ipynb>data table notebook</a>'\n",
              "          + ' to learn more about interactive tables.';\n",
              "        element.innerHTML = '';\n",
              "        dataTable['output_type'] = 'display_data';\n",
              "        await google.colab.output.renderOutput(dataTable, element);\n",
              "        const docLink = document.createElement('div');\n",
              "        docLink.innerHTML = docLinkHtml;\n",
              "        element.appendChild(docLink);\n",
              "      }\n",
              "    </script>\n",
              "  </div>\n",
              "\n",
              "\n",
              "<div id=\"df-c0e0cb66-7887-479b-b527-a992c1ecd8e6\">\n",
              "  <button class=\"colab-df-quickchart\" onclick=\"quickchart('df-c0e0cb66-7887-479b-b527-a992c1ecd8e6')\"\n",
              "            title=\"Suggest charts\"\n",
              "            style=\"display:none;\">\n",
              "\n",
              "<svg xmlns=\"http://www.w3.org/2000/svg\" height=\"24px\"viewBox=\"0 0 24 24\"\n",
              "     width=\"24px\">\n",
              "    <g>\n",
              "        <path d=\"M19 3H5c-1.1 0-2 .9-2 2v14c0 1.1.9 2 2 2h14c1.1 0 2-.9 2-2V5c0-1.1-.9-2-2-2zM9 17H7v-7h2v7zm4 0h-2V7h2v10zm4 0h-2v-4h2v4z\"/>\n",
              "    </g>\n",
              "</svg>\n",
              "  </button>\n",
              "\n",
              "<style>\n",
              "  .colab-df-quickchart {\n",
              "      --bg-color: #E8F0FE;\n",
              "      --fill-color: #1967D2;\n",
              "      --hover-bg-color: #E2EBFA;\n",
              "      --hover-fill-color: #174EA6;\n",
              "      --disabled-fill-color: #AAA;\n",
              "      --disabled-bg-color: #DDD;\n",
              "  }\n",
              "\n",
              "  [theme=dark] .colab-df-quickchart {\n",
              "      --bg-color: #3B4455;\n",
              "      --fill-color: #D2E3FC;\n",
              "      --hover-bg-color: #434B5C;\n",
              "      --hover-fill-color: #FFFFFF;\n",
              "      --disabled-bg-color: #3B4455;\n",
              "      --disabled-fill-color: #666;\n",
              "  }\n",
              "\n",
              "  .colab-df-quickchart {\n",
              "    background-color: var(--bg-color);\n",
              "    border: none;\n",
              "    border-radius: 50%;\n",
              "    cursor: pointer;\n",
              "    display: none;\n",
              "    fill: var(--fill-color);\n",
              "    height: 32px;\n",
              "    padding: 0;\n",
              "    width: 32px;\n",
              "  }\n",
              "\n",
              "  .colab-df-quickchart:hover {\n",
              "    background-color: var(--hover-bg-color);\n",
              "    box-shadow: 0 1px 2px rgba(60, 64, 67, 0.3), 0 1px 3px 1px rgba(60, 64, 67, 0.15);\n",
              "    fill: var(--button-hover-fill-color);\n",
              "  }\n",
              "\n",
              "  .colab-df-quickchart-complete:disabled,\n",
              "  .colab-df-quickchart-complete:disabled:hover {\n",
              "    background-color: var(--disabled-bg-color);\n",
              "    fill: var(--disabled-fill-color);\n",
              "    box-shadow: none;\n",
              "  }\n",
              "\n",
              "  .colab-df-spinner {\n",
              "    border: 2px solid var(--fill-color);\n",
              "    border-color: transparent;\n",
              "    border-bottom-color: var(--fill-color);\n",
              "    animation:\n",
              "      spin 1s steps(1) infinite;\n",
              "  }\n",
              "\n",
              "  @keyframes spin {\n",
              "    0% {\n",
              "      border-color: transparent;\n",
              "      border-bottom-color: var(--fill-color);\n",
              "      border-left-color: var(--fill-color);\n",
              "    }\n",
              "    20% {\n",
              "      border-color: transparent;\n",
              "      border-left-color: var(--fill-color);\n",
              "      border-top-color: var(--fill-color);\n",
              "    }\n",
              "    30% {\n",
              "      border-color: transparent;\n",
              "      border-left-color: var(--fill-color);\n",
              "      border-top-color: var(--fill-color);\n",
              "      border-right-color: var(--fill-color);\n",
              "    }\n",
              "    40% {\n",
              "      border-color: transparent;\n",
              "      border-right-color: var(--fill-color);\n",
              "      border-top-color: var(--fill-color);\n",
              "    }\n",
              "    60% {\n",
              "      border-color: transparent;\n",
              "      border-right-color: var(--fill-color);\n",
              "    }\n",
              "    80% {\n",
              "      border-color: transparent;\n",
              "      border-right-color: var(--fill-color);\n",
              "      border-bottom-color: var(--fill-color);\n",
              "    }\n",
              "    90% {\n",
              "      border-color: transparent;\n",
              "      border-bottom-color: var(--fill-color);\n",
              "    }\n",
              "  }\n",
              "</style>\n",
              "\n",
              "  <script>\n",
              "    async function quickchart(key) {\n",
              "      const quickchartButtonEl =\n",
              "        document.querySelector('#' + key + ' button');\n",
              "      quickchartButtonEl.disabled = true;  // To prevent multiple clicks.\n",
              "      quickchartButtonEl.classList.add('colab-df-spinner');\n",
              "      try {\n",
              "        const charts = await google.colab.kernel.invokeFunction(\n",
              "            'suggestCharts', [key], {});\n",
              "      } catch (error) {\n",
              "        console.error('Error during call to suggestCharts:', error);\n",
              "      }\n",
              "      quickchartButtonEl.classList.remove('colab-df-spinner');\n",
              "      quickchartButtonEl.classList.add('colab-df-quickchart-complete');\n",
              "    }\n",
              "    (() => {\n",
              "      let quickchartButtonEl =\n",
              "        document.querySelector('#df-c0e0cb66-7887-479b-b527-a992c1ecd8e6 button');\n",
              "      quickchartButtonEl.style.display =\n",
              "        google.colab.kernel.accessAllowed ? 'block' : 'none';\n",
              "    })();\n",
              "  </script>\n",
              "</div>\n",
              "\n",
              "    </div>\n",
              "  </div>\n"
            ],
            "application/vnd.google.colaboratory.intrinsic+json": {
              "type": "dataframe",
              "summary": "{\n  \"name\": \"df\",\n  \"rows\": 8,\n  \"fields\": [\n    {\n      \"column\": \"size\",\n      \"properties\": {\n        \"dtype\": \"number\",\n        \"std\": 33272.23757325208,\n        \"min\": 1.0,\n        \"max\": 95000.0,\n        \"num_unique_values\": 8,\n        \"samples\": [\n          390.96853146853147,\n          330.0,\n          3718.0\n        ],\n        \"semantic_type\": \"\",\n        \"description\": \"\"\n      }\n    },\n    {\n      \"column\": \"property_age\",\n      \"properties\": {\n        \"dtype\": \"number\",\n        \"std\": 1311.651614216031,\n        \"min\": 0.0,\n        \"max\": 3718.0,\n        \"num_unique_values\": 7,\n        \"samples\": [\n          3718.0,\n          5.064819795589027,\n          7.0\n        ],\n        \"semantic_type\": \"\",\n        \"description\": \"\"\n      }\n    },\n    {\n      \"column\": \"bedrooms\",\n      \"properties\": {\n        \"dtype\": \"number\",\n        \"std\": 1313.0326469230015,\n        \"min\": 1.0,\n        \"max\": 3718.0,\n        \"num_unique_values\": 8,\n        \"samples\": [\n          5.083916083916084,\n          5.0,\n          3718.0\n        ],\n        \"semantic_type\": \"\",\n        \"description\": \"\"\n      }\n    },\n    {\n      \"column\": \"bathrooms\",\n      \"properties\": {\n        \"dtype\": \"number\",\n        \"std\": 1313.234367865853,\n        \"min\": 0.7034490694258229,\n        \"max\": 3718.0,\n        \"num_unique_values\": 6,\n        \"samples\": [\n          3718.0,\n          4.606508875739645,\n          5.0\n        ],\n        \"semantic_type\": \"\",\n        \"description\": \"\"\n      }\n    },\n    {\n      \"column\": \"livingrooms\",\n      \"properties\": {\n        \"dtype\": \"number\",\n        \"std\": 1313.6959124880877,\n        \"min\": 0.9164357091224677,\n        \"max\": 3718.0,\n        \"num_unique_values\": 7,\n        \"samples\": [\n          3718.0,\n          2.2439483593329745,\n          3.0\n        ],\n        \"semantic_type\": \"\",\n        \"description\": \"\"\n      }\n    },\n    {\n      \"column\": \"kitchen\",\n      \"properties\": {\n        \"dtype\": \"number\",\n        \"std\": 1314.2491007464887,\n        \"min\": 0.0,\n        \"max\": 3718.0,\n        \"num_unique_values\": 5,\n        \"samples\": [\n          0.9093598708983325,\n          1.0,\n          0.28713528362738133\n        ],\n        \"semantic_type\": \"\",\n        \"description\": \"\"\n      }\n    },\n    {\n      \"column\": \"garage\",\n      \"properties\": {\n        \"dtype\": \"number\",\n        \"std\": 1314.2488894617914,\n        \"min\": 0.0,\n        \"max\": 3718.0,\n        \"num_unique_values\": 5,\n        \"samples\": [\n          0.8020441097364174,\n          1.0,\n          0.39851232120847224\n        ],\n        \"semantic_type\": \"\",\n        \"description\": \"\"\n      }\n    },\n    {\n      \"column\": \"driver_room\",\n      \"properties\": {\n        \"dtype\": \"number\",\n        \"std\": 1314.3602641946154,\n        \"min\": 0.0,\n        \"max\": 3718.0,\n        \"num_unique_values\": 5,\n        \"samples\": [\n          0.4956966110812265,\n          1.0,\n          0.5000487320285522\n        ],\n        \"semantic_type\": \"\",\n        \"description\": \"\"\n      }\n    },\n    {\n      \"column\": \"maid_room\",\n      \"properties\": {\n        \"dtype\": \"number\",\n        \"std\": 1314.2489758328034,\n        \"min\": 0.0,\n        \"max\": 3718.0,\n        \"num_unique_values\": 5,\n        \"samples\": [\n          0.7953200645508338,\n          1.0,\n          0.4035218141385373\n        ],\n        \"semantic_type\": \"\",\n        \"description\": \"\"\n      }\n    },\n    {\n      \"column\": \"furnished\",\n      \"properties\": {\n        \"dtype\": \"number\",\n        \"std\": 1314.4381908587625,\n        \"min\": 0.0,\n        \"max\": 3718.0,\n        \"num_unique_values\": 5,\n        \"samples\": [\n          0.12345346960731576,\n          1.0,\n          0.32900125131324737\n        ],\n        \"semantic_type\": \"\",\n        \"description\": \"\"\n      }\n    },\n    {\n      \"column\": \"ac\",\n      \"properties\": {\n        \"dtype\": \"number\",\n        \"std\": 1314.3066552590985,\n        \"min\": 0.0,\n        \"max\": 3718.0,\n        \"num_unique_values\": 5,\n        \"samples\": [\n          0.5607853684776761,\n          1.0,\n          0.4963581403351916\n        ],\n        \"semantic_type\": \"\",\n        \"description\": \"\"\n      }\n    },\n    {\n      \"column\": \"roof\",\n      \"properties\": {\n        \"dtype\": \"number\",\n        \"std\": 1314.3084747985474,\n        \"min\": 0.0,\n        \"max\": 3718.0,\n        \"num_unique_values\": 5,\n        \"samples\": [\n          0.5215169445938677,\n          1.0,\n          0.4996039982626592\n        ],\n        \"semantic_type\": \"\",\n        \"description\": \"\"\n      }\n    },\n    {\n      \"column\": \"pool\",\n      \"properties\": {\n        \"dtype\": \"number\",\n        \"std\": 1314.4342054107744,\n        \"min\": 0.0,\n        \"max\": 3718.0,\n        \"num_unique_values\": 5,\n        \"samples\": [\n          0.16245293168370092,\n          1.0,\n          0.3689154130578878\n        ],\n        \"semantic_type\": \"\",\n        \"description\": \"\"\n      }\n    },\n    {\n      \"column\": \"frontyard\",\n      \"properties\": {\n        \"dtype\": \"number\",\n        \"std\": 1314.2488829381307,\n        \"min\": 0.0,\n        \"max\": 3718.0,\n        \"num_unique_values\": 5,\n        \"samples\": [\n          0.8025820333512641,\n          1.0,\n          0.39810393111981485\n        ],\n        \"semantic_type\": \"\",\n        \"description\": \"\"\n      }\n    },\n    {\n      \"column\": \"basement\",\n      \"properties\": {\n        \"dtype\": \"number\",\n        \"std\": 1314.450142873457,\n        \"min\": 0.0,\n        \"max\": 3718.0,\n        \"num_unique_values\": 5,\n        \"samples\": [\n          0.03415814954276493,\n          1.0,\n          0.18165969880090058\n        ],\n        \"semantic_type\": \"\",\n        \"description\": \"\"\n      }\n    },\n    {\n      \"column\": \"duplex\",\n      \"properties\": {\n        \"dtype\": \"number\",\n        \"std\": 1314.3600731175452,\n        \"min\": 0.0,\n        \"max\": 3718.0,\n        \"num_unique_values\": 5,\n        \"samples\": [\n          0.49946207638515333,\n          1.0,\n          0.500066964617911\n        ],\n        \"semantic_type\": \"\",\n        \"description\": \"\"\n      }\n    },\n    {\n      \"column\": \"stairs\",\n      \"properties\": {\n        \"dtype\": \"number\",\n        \"std\": 1314.2487544292642,\n        \"min\": 0.0,\n        \"max\": 3718.0,\n        \"num_unique_values\": 5,\n        \"samples\": [\n          0.8144163528778914,\n          1.0,\n          0.3888226067259234\n        ],\n        \"semantic_type\": \"\",\n        \"description\": \"\"\n      }\n    },\n    {\n      \"column\": \"elevator\",\n      \"properties\": {\n        \"dtype\": \"number\",\n        \"std\": 1314.4431753311178,\n        \"min\": 0.0,\n        \"max\": 3718.0,\n        \"num_unique_values\": 5,\n        \"samples\": [\n          0.08095750403442711,\n          1.0,\n          0.27280653149823453\n        ],\n        \"semantic_type\": \"\",\n        \"description\": \"\"\n      }\n    },\n    {\n      \"column\": \"fireplace\",\n      \"properties\": {\n        \"dtype\": \"number\",\n        \"std\": 1314.4324270144248,\n        \"min\": 0.0,\n        \"max\": 3718.0,\n        \"num_unique_values\": 5,\n        \"samples\": [\n          0.18128025820333513,\n          1.0,\n          0.3853020316952026\n        ],\n        \"semantic_type\": \"\",\n        \"description\": \"\"\n      }\n    },\n    {\n      \"column\": \"price\",\n      \"properties\": {\n        \"dtype\": \"number\",\n        \"std\": 582572.2643233704,\n        \"min\": 1000.0,\n        \"max\": 1700000.0,\n        \"num_unique_values\": 8,\n        \"samples\": [\n          87387.97417966649,\n          70000.0,\n          3718.0\n        ],\n        \"semantic_type\": \"\",\n        \"description\": \"\"\n      }\n    }\n  ]\n}"
            }
          },
          "metadata": {},
          "execution_count": 33
        }
      ]
    },
    {
      "cell_type": "code",
      "source": [
        "#Check null values\n",
        "df.isna().sum()"
      ],
      "metadata": {
        "colab": {
          "base_uri": "https://localhost:8080/"
        },
        "id": "IanagoeUpZQV",
        "outputId": "103f9004-fce9-4930-cf65-6f647b88faa9"
      },
      "execution_count": null,
      "outputs": [
        {
          "output_type": "execute_result",
          "data": {
            "text/plain": [
              "city             0\n",
              "district         0\n",
              "front            0\n",
              "size             0\n",
              "property_age     0\n",
              "bedrooms         0\n",
              "bathrooms        0\n",
              "livingrooms      0\n",
              "kitchen          0\n",
              "garage           0\n",
              "driver_room      0\n",
              "maid_room        0\n",
              "furnished        0\n",
              "ac               0\n",
              "roof             0\n",
              "pool             0\n",
              "frontyard        0\n",
              "basement         0\n",
              "duplex           0\n",
              "stairs           0\n",
              "elevator         0\n",
              "fireplace        0\n",
              "price            0\n",
              "details         80\n",
              "dtype: int64"
            ]
          },
          "metadata": {},
          "execution_count": 34
        }
      ]
    },
    {
      "cell_type": "code",
      "source": [
        "#Jointplot comparing property age and the price of rental with kind histogram\n",
        "sns.jointplot(x='property_age',y='price',data=df,kind='hist')"
      ],
      "metadata": {
        "colab": {
          "base_uri": "https://localhost:8080/",
          "height": 624
        },
        "id": "geSBaUztpbLQ",
        "outputId": "f2a6e35a-8ddd-460b-fe9c-042967590ba0"
      },
      "execution_count": null,
      "outputs": [
        {
          "output_type": "execute_result",
          "data": {
            "text/plain": [
              "<seaborn.axisgrid.JointGrid at 0x7ade18112290>"
            ]
          },
          "metadata": {},
          "execution_count": 35
        },
        {
          "output_type": "display_data",
          "data": {
            "text/plain": [
              "<Figure size 600x600 with 3 Axes>"
            ],
            "image/png": "[encoded data removed]"
          },
          "metadata": {}
        }
      ]
    },
    {
      "cell_type": "code",
      "source": [
        "#distplot for the price\n",
        "plt.figure(figsize=(10,6))\n",
        "sns.distplot(df['price'])"
      ],
      "metadata": {
        "colab": {
          "base_uri": "https://localhost:8080/",
          "height": 765
        },
        "id": "gZL38gAWpenN",
        "outputId": "f4c40204-35dc-4345-f30d-1d8c97f27fd7"
      },
      "execution_count": null,
      "outputs": [
        {
          "output_type": "stream",
          "name": "stderr",
          "text": [
            "<ipython-input-36-b4f60c9aac54>:3: UserWarning: \n",
            "\n",
            "`distplot` is a deprecated function and will be removed in seaborn v0.14.0.\n",
            "\n",
            "Please adapt your code to use either `displot` (a figure-level function with\n",
            "similar flexibility) or `histplot` (an axes-level function for histograms).\n",
            "\n",
            "For a guide to updating your code to use the new functions, please see\n",
            "https://gist.github.com/mwaskom/de44147ed2974457ad6372750bbe5751\n",
            "\n",
            "  sns.distplot(df['price'])\n"
          ]
        },
        {
          "output_type": "execute_result",
          "data": {
            "text/plain": [
              "<Axes: xlabel='price', ylabel='Density'>"
            ]
          },
          "metadata": {},
          "execution_count": 36
        },
        {
          "output_type": "display_data",
          "data": {
            "text/plain": [
              "<Figure size 1000x600 with 1 Axes>"
            ],
            "image/png": "[encoded data removed]"
          },
          "metadata": {}
        }
      ]
    },
    {
      "cell_type": "code",
      "source": [
        "#Countplot for the number of bedrooms\n",
        "sns.countplot(df['bedrooms'],palette='Blues')"
      ],
      "metadata": {
        "colab": {
          "base_uri": "https://localhost:8080/",
          "height": 554
        },
        "id": "UeftRs28pkPH",
        "outputId": "4ab98fda-92eb-41c3-8450-90e65aa3f486"
      },
      "execution_count": null,
      "outputs": [
        {
          "output_type": "stream",
          "name": "stderr",
          "text": [
            "<ipython-input-37-9fddfaf4df9a>:2: FutureWarning: \n",
            "\n",
            "Passing `palette` without assigning `hue` is deprecated and will be removed in v0.14.0. Assign the `x` variable to `hue` and set `legend=False` for the same effect.\n",
            "\n",
            "  sns.countplot(df['bedrooms'],palette='Blues')\n"
          ]
        },
        {
          "output_type": "execute_result",
          "data": {
            "text/plain": [
              "<Axes: ylabel='count'>"
            ]
          },
          "metadata": {},
          "execution_count": 37
        },
        {
          "output_type": "display_data",
          "data": {
            "text/plain": [
              "<Figure size 640x480 with 1 Axes>"
            ],
            "image/png": "[encoded data removed]"
          },
          "metadata": {}
        }
      ]
    },
    {
      "cell_type": "code",
      "source": [
        "#Countplot for the number of bathrooms\n",
        "sns.countplot(df['bathrooms'],palette='Blues')"
      ],
      "metadata": {
        "colab": {
          "base_uri": "https://localhost:8080/",
          "height": 554
        },
        "id": "nZYY-luFpnKz",
        "outputId": "b363cff9-dc13-4d7e-bb9a-e279cf7a39e8"
      },
      "execution_count": null,
      "outputs": [
        {
          "output_type": "stream",
          "name": "stderr",
          "text": [
            "<ipython-input-38-4bf6721c0d21>:2: FutureWarning: \n",
            "\n",
            "Passing `palette` without assigning `hue` is deprecated and will be removed in v0.14.0. Assign the `x` variable to `hue` and set `legend=False` for the same effect.\n",
            "\n",
            "  sns.countplot(df['bathrooms'],palette='Blues')\n"
          ]
        },
        {
          "output_type": "execute_result",
          "data": {
            "text/plain": [
              "<Axes: ylabel='count'>"
            ]
          },
          "metadata": {},
          "execution_count": 38
        },
        {
          "output_type": "display_data",
          "data": {
            "text/plain": [
              "<Figure size 640x480 with 1 Axes>"
            ],
            "image/png": "[encoded data removed]"
          },
          "metadata": {}
        }
      ]
    },
    {
      "cell_type": "code",
      "source": [
        "#Scatterplot for the price vs size\n",
        "plt.figure(figsize=(10,6))\n",
        "sns.scatterplot(x='price',y='size',data=df)"
      ],
      "metadata": {
        "colab": {
          "base_uri": "https://localhost:8080/",
          "height": 559
        },
        "id": "wqWnMGjvpqQ0",
        "outputId": "73e0c0fa-c621-4ec2-a307-b4d6cce35130"
      },
      "execution_count": null,
      "outputs": [
        {
          "output_type": "execute_result",
          "data": {
            "text/plain": [
              "<Axes: xlabel='price', ylabel='size'>"
            ]
          },
          "metadata": {},
          "execution_count": 39
        },
        {
          "output_type": "display_data",
          "data": {
            "text/plain": [
              "<Figure size 1000x600 with 1 Axes>"
            ],
            "image/png": "[encoded data removed]"
          },
          "metadata": {}
        }
      ]
    },
    {
      "cell_type": "code",
      "source": [
        "#Boxplot comparing number of bedrooms with rental price\n",
        "sns.boxplot(x='bedrooms',y='price',data=df)"
      ],
      "metadata": {
        "colab": {
          "base_uri": "https://localhost:8080/",
          "height": 482
        },
        "id": "MaJXvfuHptT9",
        "outputId": "f5de34a4-ef9e-4ed2-ee2d-4aefdc8a8e98"
      },
      "execution_count": null,
      "outputs": [
        {
          "output_type": "execute_result",
          "data": {
            "text/plain": [
              "<Axes: xlabel='bedrooms', ylabel='price'>"
            ]
          },
          "metadata": {},
          "execution_count": 40
        },
        {
          "output_type": "display_data",
          "data": {
            "text/plain": [
              "<Figure size 640x480 with 1 Axes>"
            ],
            "image/png": "[encoded data removed]"
          },
          "metadata": {}
        }
      ]
    },
    {
      "cell_type": "code",
      "source": [
        "#Jointplot comparing bathrooms and price of rental with kernal density estimation\n",
        "plt.figure(figsize=(10,6))\n",
        "sns.jointplot(x='bathrooms',y='price',data=df,kind='kde')"
      ],
      "metadata": {
        "colab": {
          "base_uri": "https://localhost:8080/",
          "height": 642
        },
        "id": "M36n9_Eppz_b",
        "outputId": "cca31cf1-4fed-4635-e7d4-829802e556b5"
      },
      "execution_count": null,
      "outputs": [
        {
          "output_type": "execute_result",
          "data": {
            "text/plain": [
              "<seaborn.axisgrid.JointGrid at 0x7ade041e49a0>"
            ]
          },
          "metadata": {},
          "execution_count": 41
        },
        {
          "output_type": "display_data",
          "data": {
            "text/plain": [
              "<Figure size 1000x600 with 0 Axes>"
            ]
          },
          "metadata": {}
        },
        {
          "output_type": "display_data",
          "data": {
            "text/plain": [
              "<Figure size 600x600 with 3 Axes>"
            ],
            "image/png": "[encoded data removed]"
          },
          "metadata": {}
        }
      ]
    },
    {
      "cell_type": "markdown",
      "source": [
        "# **Data Cleaning**"
      ],
      "metadata": {
        "id": "kISU90wdzwCq"
      }
    },
    {
      "cell_type": "code",
      "source": [
        "#Dropping outliers\n",
        "df = df[df['price'] < 300000]\n",
        "df = df[df['size'] < 1600]"
      ],
      "metadata": {
        "id": "qk0cn-SDp3Ch"
      },
      "execution_count": null,
      "outputs": []
    },
    {
      "cell_type": "code",
      "source": [
        "#One hot encoding\n",
        "ct = pd.get_dummies(df['city'])\n",
        "ds = pd.get_dummies(df['district'])\n",
        "fr = pd.get_dummies(df['front'])"
      ],
      "metadata": {
        "id": "AFpAwb8_p6L4"
      },
      "execution_count": null,
      "outputs": []
    },
    {
      "cell_type": "code",
      "source": [
        "df = pd.concat([df,ct,ds,fr],axis=1)"
      ],
      "metadata": {
        "id": "d4wmeLyrp9V-"
      },
      "execution_count": null,
      "outputs": []
    },
    {
      "cell_type": "code",
      "source": [
        "df.drop(['city','district','front','details','3 شوارع','4 شوارع'],axis=1,inplace=True)"
      ],
      "metadata": {
        "id": "ACGtmy0sp_QX"
      },
      "execution_count": null,
      "outputs": []
    },
    {
      "cell_type": "markdown",
      "source": [
        "# **Train Test Split**"
      ],
      "metadata": {
        "id": "JTxzTV9O0DO2"
      }
    },
    {
      "cell_type": "code",
      "source": [
        "X = df.drop(['price'],axis=1)\n",
        "y = df['price']"
      ],
      "metadata": {
        "id": "JogjKzjZqBpz"
      },
      "execution_count": null,
      "outputs": []
    },
    {
      "cell_type": "code",
      "source": [
        "X_train, X_test, y_train, y_test = train_test_split(X,y,test_size=0.2,train_size=0.8)"
      ],
      "metadata": {
        "id": "iKeJoPBHqEow"
      },
      "execution_count": null,
      "outputs": []
    },
    {
      "cell_type": "markdown",
      "source": [
        "# **Scaling the data**"
      ],
      "metadata": {
        "id": "Y-LN5ef80I0X"
      }
    },
    {
      "cell_type": "code",
      "source": [
        "scaler = MinMaxScaler()\n",
        "X_train= scaler.fit_transform(X_train)\n",
        "X_test = scaler.transform(X_test)"
      ],
      "metadata": {
        "id": "4zXWre6XqGoG"
      },
      "execution_count": null,
      "outputs": []
    },
    {
      "cell_type": "markdown",
      "source": [
        "# **Training the model**"
      ],
      "metadata": {
        "id": "c727JApb0Pki"
      }
    },
    {
      "cell_type": "code",
      "source": [
        "import tensorflow as tf\n",
        "\n",
        "model = tf.keras.models.Sequential()\n",
        "model.add(tf.keras.layers.Dense(25, activation='selu'))\n",
        "model.add(tf.keras.layers.Dense(50, activation='selu'))\n",
        "model.add(tf.keras.layers.Dense(75, activation='selu'))\n",
        "model.add(tf.keras.layers.Dense(100, activation='selu'))\n",
        "model.add(tf.keras.layers.Dense(125, activation='selu'))\n",
        "model.add(tf.keras.layers.Dense(150, activation='selu'))\n",
        "model.add(tf.keras.layers.Dense(175, activation='selu'))\n",
        "model.add(tf.keras.layers.Dense(200, activation='selu'))\n",
        "model.add(tf.keras.layers.Dense(225, activation='selu'))\n",
        "model.add(tf.keras.layers.Dense(250, activation='selu'))\n",
        "model.add(tf.keras.layers.Dense(275, activation='selu'))\n",
        "model.add(tf.keras.layers.Dense(300, activation='selu'))\n",
        "model.add(tf.keras.layers.Dense(325, activation='selu'))\n",
        "model.add(tf.keras.layers.Dense(350, activation='selu'))\n",
        "model.add(tf.keras.layers.Dense(375, activation='selu'))\n",
        "\n",
        "model.add(tf.keras.layers.Dense(1))\n",
        "\n",
        "optimizer = tf.keras.optimizers.Adagrad(learning_rate=0.01)\n",
        "loss = tf.keras.losses.MeanAbsoluteError()\n",
        "\n",
        "model.compile(optimizer=optimizer, loss=loss)"
      ],
      "metadata": {
        "id": "WXzIralEqJGZ"
      },
      "execution_count": null,
      "outputs": []
    },
    {
      "cell_type": "markdown",
      "source": [
        "# **Training the model sequentially**"
      ],
      "metadata": {
        "id": "VRdrPFkj0V4z"
      }
    },
    {
      "cell_type": "code",
      "source": [
        "start_time1 = time.time()\n",
        "model.fit(X_train, y_train)\n",
        "seq_time = time.time() - start_time1\n",
        "print(\"Sequential time:\", seq_time)"
      ],
      "metadata": {
        "colab": {
          "base_uri": "https://localhost:8080/"
        },
        "id": "P0niayw1hoL7",
        "outputId": "f4369f91-7ecf-4a1c-ee42-82c9c288f4f4"
      },
      "execution_count": null,
      "outputs": [
        {
          "output_type": "stream",
          "name": "stdout",
          "text": [
            "92/92 [==============================] - 3s 15ms/step - loss: 44296.2383\n",
            "Sequential time: 4.724009990692139\n"
          ]
        }
      ]
    },
    {
      "cell_type": "code",
      "source": [
        "predictions = model.predict(X_test)\n",
        "\n",
        "# Converting predictions to binary (0 or 1) for classification\n",
        "binary_predictions = (predictions > 0.5).astype(int)\n",
        "accuracy = metrics.r2_score(y_test, predictions)\n",
        "\n",
        "print(\"Accuracy:\", accuracy)"
      ],
      "metadata": {
        "colab": {
          "base_uri": "https://localhost:8080/"
        },
        "id": "9ho23EUbTwMf",
        "outputId": "bd2c60d9-697c-4b40-cf95-a28c8a03db54"
      },
      "execution_count": null,
      "outputs": [
        {
          "output_type": "stream",
          "name": "stdout",
          "text": [
            "23/23 [==============================] - 0s 5ms/step\n",
            "Accuracy: 0.11904775897663067\n"
          ]
        }
      ]
    },
    {
      "cell_type": "markdown",
      "source": [
        "# **Training the model in parallel**"
      ],
      "metadata": {
        "id": "npohzUvk0gkU"
      }
    },
    {
      "cell_type": "code",
      "source": [
        "start_time1 = time.time()\n",
        "with parallel_backend('loky'):\n",
        "  start_time1 = time.time()\n",
        "  model.fit(X_train, y_train.values)\n",
        "loky_time = time.time() - start_time1\n",
        "print(\"Loky time:\", loky_time)\n"
      ],
      "metadata": {
        "colab": {
          "base_uri": "https://localhost:8080/"
        },
        "id": "DUgc_dNTgUGH",
        "outputId": "70d2422b-b6af-4de5-a509-993778e5756f"
      },
      "execution_count": null,
      "outputs": [
        {
          "output_type": "stream",
          "name": "stdout",
          "text": [
            "92/92 [==============================] - 2s 13ms/step - loss: 22891.3438\n",
            "Loky time: 2.31754994392395\n"
          ]
        }
      ]
    },
    {
      "cell_type": "code",
      "source": [
        "predictions = model.predict(X_test)\n",
        "# Converting predictions to binary (0 or 1) for classification\n",
        "binary_predictions = (predictions > 0.5).astype(int)\n",
        "accuracy = metrics.r2_score(y_test, predictions)\n",
        "speedup = seq_time / loky_time\n",
        "efficiency_rate = loky_time / speedup\n",
        "\n",
        "print(\"Speedup:\", speedup)\n",
        "print(\"Efficiency Rate:\", efficiency_rate)\n",
        "print(\"Accuracy:\", accuracy)\n"
      ],
      "metadata": {
        "colab": {
          "base_uri": "https://localhost:8080/"
        },
        "id": "aF2qB4P2TyPH",
        "outputId": "bd848263-112d-418d-fbc3-7eb3397f1fb8"
      },
      "execution_count": null,
      "outputs": [
        {
          "output_type": "stream",
          "name": "stdout",
          "text": [
            "23/23 [==============================] - 0s 4ms/step\n",
            "Speedup: 2.0383638346510455\n",
            "Efficiency Rate: 1.1369657882105721\n",
            "Accuracy: 0.27147191618546407\n"
          ]
        }
      ]
    },
    {
      "cell_type": "code",
      "source": [
        "start_time1 = time.time()\n",
        "with parallel_backend('threading', n_jobs=2):\n",
        "  start_time1 = time.time()\n",
        "  model.fit(X_train, y_train.values)\n",
        "th_time = time.time() - start_time1\n",
        "print(\"Threading time:\", th_time)\n"
      ],
      "metadata": {
        "id": "veBaselmqMnI",
        "colab": {
          "base_uri": "https://localhost:8080/"
        },
        "outputId": "0826c96f-9cdb-4923-f6fe-59eebfe168ec"
      },
      "execution_count": null,
      "outputs": [
        {
          "output_type": "stream",
          "name": "stdout",
          "text": [
            "92/92 [==============================] - 1s 12ms/step - loss: 18987.4590\n",
            "Threading time: 1.2414946556091309\n"
          ]
        }
      ]
    },
    {
      "cell_type": "code",
      "source": [
        "predictions = model.predict(X_test)\n",
        "\n",
        "# Converting predictions to binary (0 or 1) for classification\n",
        "binary_predictions = (predictions > 0.5).astype(int)\n",
        "accuracy = metrics.r2_score(y_test, predictions)\n",
        "speedup = seq_time / th_time\n",
        "efficiency_rate = th_time / speedup\n",
        "\n",
        "print(\"Speedup:\", speedup)\n",
        "print(\"Efficiency Rate:\", efficiency_rate)\n",
        "print(\"Accuracy:\", accuracy)\n"
      ],
      "metadata": {
        "colab": {
          "base_uri": "https://localhost:8080/"
        },
        "id": "NHWk_UbRTzco",
        "outputId": "3e8837ab-8c53-4537-de2c-eb615eabbc91"
      },
      "execution_count": null,
      "outputs": [
        {
          "output_type": "stream",
          "name": "stdout",
          "text": [
            "23/23 [==============================] - 0s 4ms/step\n",
            "Speedup: 3.805098934054078\n",
            "Efficiency Rate: 0.32627132096310607\n",
            "Accuracy: 0.4670720024321544\n"
          ]
        }
      ]
    },
    {
      "cell_type": "code",
      "source": [
        "start_time1 = time.time()\n",
        "with parallel_backend('multiprocessing'):\n",
        "  start_time1 = time.time()\n",
        "  model.fit(X_train, y_train.values)\n",
        "mp_time = time.time() - start_time1\n",
        "print(\"Multiprocessing time:\", mp_time)\n"
      ],
      "metadata": {
        "colab": {
          "base_uri": "https://localhost:8080/"
        },
        "id": "s0sDqxkqfOU9",
        "outputId": "14d98e62-3755-4d6f-c2b9-299e89804ee6"
      },
      "execution_count": null,
      "outputs": [
        {
          "output_type": "stream",
          "name": "stdout",
          "text": [
            "92/92 [==============================] - 1s 13ms/step - loss: 16416.0840\n",
            "Multiprocessing time: 1.356759786605835\n"
          ]
        }
      ]
    },
    {
      "cell_type": "code",
      "source": [
        "predictions = model.predict(X_test)\n",
        "\n",
        "# Converting predictions to binary (0 or 1) for classification\n",
        "binary_predictions = (predictions > 0.5).astype(int)\n",
        "accuracy = metrics.r2_score(y_test, predictions)\n",
        "speedup = mp_time / loky_time\n",
        "efficiency_rate = mp_time / speedup\n",
        "\n",
        "print(\"Speedup:\", speedup)\n",
        "print(\"Efficiency Rate:\", efficiency_rate)\n",
        "print(\"Accuracy:\", accuracy)"
      ],
      "metadata": {
        "colab": {
          "base_uri": "https://localhost:8080/"
        },
        "id": "WExyh69AT08O",
        "outputId": "f0d97e50-90ac-4dbd-de49-a51d746ecb64"
      },
      "execution_count": null,
      "outputs": [
        {
          "output_type": "stream",
          "name": "stdout",
          "text": [
            "23/23 [==============================] - 0s 4ms/step\n",
            "Speedup: 0.585428499680418\n",
            "Efficiency Rate: 2.31754994392395\n",
            "Accuracy: 0.6107714185300293\n"
          ]
        }
      ]
    },
    {
      "cell_type": "code",
      "source": [
        "# Scatter plot of predictions vs test data\n",
        "plt.scatter(y_test,predictions,color='g')"
      ],
      "metadata": {
        "colab": {
          "base_uri": "https://localhost:8080/",
          "height": 447
        },
        "id": "Xj7hS5O_qsWO",
        "outputId": "fdce4a51-33b2-41b5-b417-e955d3f77cba"
      },
      "execution_count": null,
      "outputs": [
        {
          "output_type": "execute_result",
          "data": {
            "text/plain": [
              "<matplotlib.collections.PathCollection at 0x7ade02ab5960>"
            ]
          },
          "metadata": {},
          "execution_count": 58
        },
        {
          "output_type": "display_data",
          "data": {
            "text/plain": [
              "<Figure size 640x480 with 1 Axes>"
            ],
            "image/png": "[encoded data removed]"
          },
          "metadata": {}
        }
      ]
    }
  ]
}